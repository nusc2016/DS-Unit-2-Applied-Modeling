{
  "nbformat": 4,
  "nbformat_minor": 0,
  "metadata": {
    "kernelspec": {
      "display_name": "Python 3",
      "language": "python",
      "name": "python3"
    },
    "language_info": {
      "codemirror_mode": {
        "name": "ipython",
        "version": 3
      },
      "file_extension": ".py",
      "mimetype": "text/x-python",
      "name": "python",
      "nbconvert_exporter": "python",
      "pygments_lexer": "ipython3",
      "version": "3.7.6"
    },
    "colab": {
      "name": "Aaron_Huizenga_LS_DS_231_assignment.ipynb",
      "provenance": [],
      "include_colab_link": true
    }
  },
  "cells": [
    {
      "cell_type": "markdown",
      "metadata": {
        "id": "view-in-github",
        "colab_type": "text"
      },
      "source": [
        "<a href=\"https://colab.research.google.com/github/nusc2016/DS-Unit-2-Applied-Modeling/blob/master/Module1/Aaron_Huizenga_LS_DS_231_assignment.ipynb\" target=\"_parent\"><img src=\"https://colab.research.google.com/assets/colab-badge.svg\" alt=\"Open In Colab\"/></a>"
      ]
    },
    {
      "cell_type": "markdown",
      "metadata": {
        "colab_type": "text",
        "id": "nCc3XZEyG3XV"
      },
      "source": [
        "Lambda School Data Science\n",
        "\n",
        "*Unit 2, Sprint 3, Module 1*\n",
        "\n",
        "---\n",
        "\n",
        "\n",
        "# Define ML problems\n",
        "\n",
        "You will use your portfolio project dataset for all assignments this sprint.\n",
        "\n",
        "## Assignment\n",
        "\n",
        "Complete these tasks for your project, and document your decisions.\n",
        "\n",
        "- [ ] Choose your target. Which column in your tabular dataset will you predict?\n",
        "- [ ] Is your problem regression or classification?\n",
        "- [ ] How is your target distributed?\n",
        "    - Classification: How many classes? Are the classes imbalanced?\n",
        "    - Regression: Is the target right-skewed? If so, you may want to log transform the target.\n",
        "- [ ] Choose your evaluation metric(s).\n",
        "    - Classification: Is your majority class frequency >= 50% and < 70% ? If so, you can just use accuracy if you want. Outside that range, accuracy could be misleading. What evaluation metric will you choose, in addition to or instead of accuracy?\n",
        "    - Regression: Will you use mean absolute error, root mean squared error, R^2, or other regression metrics?\n",
        "- [ ] Choose which observations you will use to train, validate, and test your model.\n",
        "    - Are some observations outliers? Will you exclude them?\n",
        "    - Will you do a random split or a time-based split?\n",
        "- [ ] Begin to clean and explore your data.\n",
        "- [ ] Begin to choose which features, if any, to exclude. Would some features \"leak\" future information?\n",
        "\n",
        "If you haven't found a dataset yet, do that today. [Review requirements for your portfolio project](https://lambdaschool.github.io/ds/unit2) and choose your dataset.\n",
        "\n",
        "Some students worry, ***what if my model isn't “good”?*** Then, [produce a detailed tribute to your wrongness. That is science!](https://twitter.com/nathanwpyle/status/1176860147223867393)"
      ]
    },
    {
      "cell_type": "markdown",
      "metadata": {
        "id": "Uyb-K2qMvmTF",
        "colab_type": "text"
      },
      "source": [
        "## The dataset that I am using is called \"Pima Indians Diabetes Database\" that is provided by the UCI ML Repository. It was exported as an Excel spreadsheet. I will be performing the ML workflow with this particular Diabetes Data set."
      ]
    },
    {
      "cell_type": "code",
      "metadata": {
        "id": "Clm7Y_naWovJ",
        "colab_type": "code",
        "colab": {}
      },
      "source": [
        "%%capture\n",
        "import sys\n",
        "\n",
        "if 'google.colab' in sys.modules:\n",
        "    # Install packages in Colab\n",
        "    !pip install category_encoders==2.*\n",
        "    !pip install pandas-profiling==2.*"
      ],
      "execution_count": 0,
      "outputs": []
    },
    {
      "cell_type": "code",
      "metadata": {
        "id": "Jrvo45FsWqOT",
        "colab_type": "code",
        "colab": {}
      },
      "source": [
        "!pip install -q matplotlib-venn"
      ],
      "execution_count": 0,
      "outputs": []
    },
    {
      "cell_type": "code",
      "metadata": {
        "id": "r-QGxZyUW01C",
        "colab_type": "code",
        "colab": {}
      },
      "source": [
        "%matplotlib inline\n",
        "import os\n",
        "import pandas as pd\n",
        "import numpy as np\n",
        "import plotly.express as px\n",
        "from sklearn.feature_selection import f_regression, SelectKBest\n",
        "from sklearn.metrics import mean_absolute_error\n",
        "from sklearn.metrics import mean_squared_error\n",
        "from sklearn.metrics import r2_score\n",
        "import itertools\n",
        "import matplotlib.pyplot as plt\n",
        "import seaborn as sns\n",
        "from sklearn.preprocessing import StandardScaler\n",
        "from sklearn.metrics import accuracy_score\n",
        "from sklearn.impute import SimpleImputer\n",
        "from sklearn.pipeline import make_pipeline\n",
        "from sklearn.compose import ColumnTransformer\n",
        "from sklearn.model_selection import train_test_split\n",
        "import warnings\n",
        "warnings.filterwarnings(action='ignore', category=FutureWarning, module='numpy')"
      ],
      "execution_count": 0,
      "outputs": []
    },
    {
      "cell_type": "code",
      "metadata": {
        "id": "61E4iUPUW525",
        "colab_type": "code",
        "outputId": "8403f83e-744d-46cb-ebe7-a76179c30f9c",
        "colab": {
          "resources": {
            "http://localhost:8080/nbextensions/google.colab/files.js": {
              "data": "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",
              "ok": true,
              "headers": [
                [
                  "content-type",
                  "application/javascript"
                ]
              ],
              "status": 200,
              "status_text": ""
            }
          },
          "base_uri": "https://localhost:8080/",
          "height": 113
        }
      },
      "source": [
        "from google.colab import files\n",
        "files.upload()"
      ],
      "execution_count": 237,
      "outputs": [
        {
          "output_type": "display_data",
          "data": {
            "text/html": [
              "\n",
              "     <input type=\"file\" id=\"files-e82ac7c4-5545-4f8d-a9ff-e02b46dd6bde\" name=\"files[]\" multiple disabled />\n",
              "     <output id=\"result-e82ac7c4-5545-4f8d-a9ff-e02b46dd6bde\">\n",
              "      Upload widget is only available when the cell has been executed in the\n",
              "      current browser session. Please rerun this cell to enable.\n",
              "      </output>\n",
              "      <script src=\"/nbextensions/google.colab/files.js\"></script> "
            ],
            "text/plain": [
              "<IPython.core.display.HTML object>"
            ]
          },
          "metadata": {
            "tags": []
          }
        },
        {
          "output_type": "stream",
          "text": [
            "Saving diabetic.csv to diabetic (7).csv\n"
          ],
          "name": "stdout"
        },
        {
          "output_type": "execute_result",
          "data": {
            "text/plain": [
              "{'diabetic.csv': b'Pregnancies,Glucose,BloodPressure,SkinThickness,Insulin,BMI,DiabetesPedigreeFunction,Age,Outcome\\r\\n6,148,72,35,0,33.6,0.627,50,1\\r\\n1,85,66,29,0,26.6,0.351,31,0\\r\\n8,183,64,0,0,23.3,0.672,32,1\\r\\n1,89,66,23,94,28.1,0.167,21,0\\r\\n0,137,40,35,168,43.1,2.288,33,1\\r\\n5,116,74,0,0,25.6,0.201,30,0\\r\\n3,78,50,32,88,31,0.248,26,1\\r\\n10,115,0,0,0,35.3,0.134,29,0\\r\\n2,197,70,45,543,30.5,0.158,53,1\\r\\n8,125,96,0,0,0,0.232,54,1\\r\\n4,110,92,0,0,37.6,0.191,30,0\\r\\n10,168,74,0,0,38,0.537,34,1\\r\\n10,139,80,0,0,27.1,1.441,57,0\\r\\n1,189,60,23,846,30.1,0.398,59,1\\r\\n5,166,72,19,175,25.8,0.587,51,1\\r\\n7,100,0,0,0,30,0.484,32,1\\r\\n0,118,84,47,230,45.8,0.551,31,1\\r\\n7,107,74,0,0,29.6,0.254,31,1\\r\\n1,103,30,38,83,43.3,0.183,33,0\\r\\n1,115,70,30,96,34.6,0.529,32,1\\r\\n3,126,88,41,235,39.3,0.704,27,0\\r\\n8,99,84,0,0,35.4,0.388,50,0\\r\\n7,196,90,0,0,39.8,0.451,41,1\\r\\n9,119,80,35,0,29,0.263,29,1\\r\\n11,143,94,33,146,36.6,0.254,51,1\\r\\n10,125,70,26,115,31.1,0.205,41,1\\r\\n7,147,76,0,0,39.4,0.257,43,1\\r\\n1,97,66,15,140,23.2,0.487,22,0\\r\\n13,145,82,19,110,22.2,0.245,57,0\\r\\n5,117,92,0,0,34.1,0.337,38,0\\r\\n5,109,75,26,0,36,0.546,60,0\\r\\n3,158,76,36,245,31.6,0.851,28,1\\r\\n3,88,58,11,54,24.8,0.267,22,0\\r\\n6,92,92,0,0,19.9,0.188,28,0\\r\\n10,122,78,31,0,27.6,0.512,45,0\\r\\n4,103,60,33,192,24,0.966,33,0\\r\\n11,138,76,0,0,33.2,0.42,35,0\\r\\n9,102,76,37,0,32.9,0.665,46,1\\r\\n2,90,68,42,0,38.2,0.503,27,1\\r\\n4,111,72,47,207,37.1,1.39,56,1\\r\\n3,180,64,25,70,34,0.271,26,0\\r\\n7,133,84,0,0,40.2,0.696,37,0\\r\\n7,106,92,18,0,22.7,0.235,48,0\\r\\n9,171,110,24,240,45.4,0.721,54,1\\r\\n7,159,64,0,0,27.4,0.294,40,0\\r\\n0,180,66,39,0,42,1.893,25,1\\r\\n1,146,56,0,0,29.7,0.564,29,0\\r\\n2,71,70,27,0,28,0.586,22,0\\r\\n7,103,66,32,0,39.1,0.344,31,1\\r\\n7,105,0,0,0,0,0.305,24,0\\r\\n1,103,80,11,82,19.4,0.491,22,0\\r\\n1,101,50,15,36,24.2,0.526,26,0\\r\\n5,88,66,21,23,24.4,0.342,30,0\\r\\n8,176,90,34,300,33.7,0.467,58,1\\r\\n7,150,66,42,342,34.7,0.718,42,0\\r\\n1,73,50,10,0,23,0.248,21,0\\r\\n7,187,68,39,304,37.7,0.254,41,1\\r\\n0,100,88,60,110,46.8,0.962,31,0\\r\\n0,146,82,0,0,40.5,1.781,44,0\\r\\n0,105,64,41,142,41.5,0.173,22,0\\r\\n2,84,0,0,0,0,0.304,21,0\\r\\n8,133,72,0,0,32.9,0.27,39,1\\r\\n5,44,62,0,0,25,0.587,36,0\\r\\n2,141,58,34,128,25.4,0.699,24,0\\r\\n7,114,66,0,0,32.8,0.258,42,1\\r\\n5,99,74,27,0,29,0.203,32,0\\r\\n0,109,88,30,0,32.5,0.855,38,1\\r\\n2,109,92,0,0,42.7,0.845,54,0\\r\\n1,95,66,13,38,19.6,0.334,25,0\\r\\n4,146,85,27,100,28.9,0.189,27,0\\r\\n2,100,66,20,90,32.9,0.867,28,1\\r\\n5,139,64,35,140,28.6,0.411,26,0\\r\\n13,126,90,0,0,43.4,0.583,42,1\\r\\n4,129,86,20,270,35.1,0.231,23,0\\r\\n1,79,75,30,0,32,0.396,22,0\\r\\n1,0,48,20,0,24.7,0.14,22,0\\r\\n7,62,78,0,0,32.6,0.391,41,0\\r\\n5,95,72,33,0,37.7,0.37,27,0\\r\\n0,131,0,0,0,43.2,0.27,26,1\\r\\n2,112,66,22,0,25,0.307,24,0\\r\\n3,113,44,13,0,22.4,0.14,22,0\\r\\n2,74,0,0,0,0,0.102,22,0\\r\\n7,83,78,26,71,29.3,0.767,36,0\\r\\n0,101,65,28,0,24.6,0.237,22,0\\r\\n5,137,108,0,0,48.8,0.227,37,1\\r\\n2,110,74,29,125,32.4,0.698,27,0\\r\\n13,106,72,54,0,36.6,0.178,45,0\\r\\n2,100,68,25,71,38.5,0.324,26,0\\r\\n15,136,70,32,110,37.1,0.153,43,1\\r\\n1,107,68,19,0,26.5,0.165,24,0\\r\\n1,80,55,0,0,19.1,0.258,21,0\\r\\n4,123,80,15,176,32,0.443,34,0\\r\\n7,81,78,40,48,46.7,0.261,42,0\\r\\n4,134,72,0,0,23.8,0.277,60,1\\r\\n2,142,82,18,64,24.7,0.761,21,0\\r\\n6,144,72,27,228,33.9,0.255,40,0\\r\\n2,92,62,28,0,31.6,0.13,24,0\\r\\n1,71,48,18,76,20.4,0.323,22,0\\r\\n6,93,50,30,64,28.7,0.356,23,0\\r\\n1,122,90,51,220,49.7,0.325,31,1\\r\\n1,163,72,0,0,39,1.222,33,1\\r\\n1,151,60,0,0,26.1,0.179,22,0\\r\\n0,125,96,0,0,22.5,0.262,21,0\\r\\n1,81,72,18,40,26.6,0.283,24,0\\r\\n2,85,65,0,0,39.6,0.93,27,0\\r\\n1,126,56,29,152,28.7,0.801,21,0\\r\\n1,96,122,0,0,22.4,0.207,27,0\\r\\n4,144,58,28,140,29.5,0.287,37,0\\r\\n3,83,58,31,18,34.3,0.336,25,0\\r\\n0,95,85,25,36,37.4,0.247,24,1\\r\\n3,171,72,33,135,33.3,0.199,24,1\\r\\n8,155,62,26,495,34,0.543,46,1\\r\\n1,89,76,34,37,31.2,0.192,23,0\\r\\n4,76,62,0,0,34,0.391,25,0\\r\\n7,160,54,32,175,30.5,0.588,39,1\\r\\n4,146,92,0,0,31.2,0.539,61,1\\r\\n5,124,74,0,0,34,0.22,38,1\\r\\n5,78,48,0,0,33.7,0.654,25,0\\r\\n4,97,60,23,0,28.2,0.443,22,0\\r\\n4,99,76,15,51,23.2,0.223,21,0\\r\\n0,162,76,56,100,53.2,0.759,25,1\\r\\n6,111,64,39,0,34.2,0.26,24,0\\r\\n2,107,74,30,100,33.6,0.404,23,0\\r\\n5,132,80,0,0,26.8,0.186,69,0\\r\\n0,113,76,0,0,33.3,0.278,23,1\\r\\n1,88,30,42,99,55,0.496,26,1\\r\\n3,120,70,30,135,42.9,0.452,30,0\\r\\n1,118,58,36,94,33.3,0.261,23,0\\r\\n1,117,88,24,145,34.5,0.403,40,1\\r\\n0,105,84,0,0,27.9,0.741,62,1\\r\\n4,173,70,14,168,29.7,0.361,33,1\\r\\n9,122,56,0,0,33.3,1.114,33,1\\r\\n3,170,64,37,225,34.5,0.356,30,1\\r\\n8,84,74,31,0,38.3,0.457,39,0\\r\\n2,96,68,13,49,21.1,0.647,26,0\\r\\n2,125,60,20,140,33.8,0.088,31,0\\r\\n0,100,70,26,50,30.8,0.597,21,0\\r\\n0,93,60,25,92,28.7,0.532,22,0\\r\\n0,129,80,0,0,31.2,0.703,29,0\\r\\n5,105,72,29,325,36.9,0.159,28,0\\r\\n3,128,78,0,0,21.1,0.268,55,0\\r\\n5,106,82,30,0,39.5,0.286,38,0\\r\\n2,108,52,26,63,32.5,0.318,22,0\\r\\n10,108,66,0,0,32.4,0.272,42,1\\r\\n4,154,62,31,284,32.8,0.237,23,0\\r\\n0,102,75,23,0,0,0.572,21,0\\r\\n9,57,80,37,0,32.8,0.096,41,0\\r\\n2,106,64,35,119,30.5,1.4,34,0\\r\\n5,147,78,0,0,33.7,0.218,65,0\\r\\n2,90,70,17,0,27.3,0.085,22,0\\r\\n1,136,74,50,204,37.4,0.399,24,0\\r\\n4,114,65,0,0,21.9,0.432,37,0\\r\\n9,156,86,28,155,34.3,1.189,42,1\\r\\n1,153,82,42,485,40.6,0.687,23,0\\r\\n8,188,78,0,0,47.9,0.137,43,1\\r\\n7,152,88,44,0,50,0.337,36,1\\r\\n2,99,52,15,94,24.6,0.637,21,0\\r\\n1,109,56,21,135,25.2,0.833,23,0\\r\\n2,88,74,19,53,29,0.229,22,0\\r\\n17,163,72,41,114,40.9,0.817,47,1\\r\\n4,151,90,38,0,29.7,0.294,36,0\\r\\n7,102,74,40,105,37.2,0.204,45,0\\r\\n0,114,80,34,285,44.2,0.167,27,0\\r\\n2,100,64,23,0,29.7,0.368,21,0\\r\\n0,131,88,0,0,31.6,0.743,32,1\\r\\n6,104,74,18,156,29.9,0.722,41,1\\r\\n3,148,66,25,0,32.5,0.256,22,0\\r\\n4,120,68,0,0,29.6,0.709,34,0\\r\\n4,110,66,0,0,31.9,0.471,29,0\\r\\n3,111,90,12,78,28.4,0.495,29,0\\r\\n6,102,82,0,0,30.8,0.18,36,1\\r\\n6,134,70,23,130,35.4,0.542,29,1\\r\\n2,87,0,23,0,28.9,0.773,25,0\\r\\n1,79,60,42,48,43.5,0.678,23,0\\r\\n2,75,64,24,55,29.7,0.37,33,0\\r\\n8,179,72,42,130,32.7,0.719,36,1\\r\\n6,85,78,0,0,31.2,0.382,42,0\\r\\n0,129,110,46,130,67.1,0.319,26,1\\r\\n5,143,78,0,0,45,0.19,47,0\\r\\n5,130,82,0,0,39.1,0.956,37,1\\r\\n6,87,80,0,0,23.2,0.084,32,0\\r\\n0,119,64,18,92,34.9,0.725,23,0\\r\\n1,0,74,20,23,27.7,0.299,21,0\\r\\n5,73,60,0,0,26.8,0.268,27,0\\r\\n4,141,74,0,0,27.6,0.244,40,0\\r\\n7,194,68,28,0,35.9,0.745,41,1\\r\\n8,181,68,36,495,30.1,0.615,60,1\\r\\n1,128,98,41,58,32,1.321,33,1\\r\\n8,109,76,39,114,27.9,0.64,31,1\\r\\n5,139,80,35,160,31.6,0.361,25,1\\r\\n3,111,62,0,0,22.6,0.142,21,0\\r\\n9,123,70,44,94,33.1,0.374,40,0\\r\\n7,159,66,0,0,30.4,0.383,36,1\\r\\n11,135,0,0,0,52.3,0.578,40,1\\r\\n8,85,55,20,0,24.4,0.136,42,0\\r\\n5,158,84,41,210,39.4,0.395,29,1\\r\\n1,105,58,0,0,24.3,0.187,21,0\\r\\n3,107,62,13,48,22.9,0.678,23,1\\r\\n4,109,64,44,99,34.8,0.905,26,1\\r\\n4,148,60,27,318,30.9,0.15,29,1\\r\\n0,113,80,16,0,31,0.874,21,0\\r\\n1,138,82,0,0,40.1,0.236,28,0\\r\\n0,108,68,20,0,27.3,0.787,32,0\\r\\n2,99,70,16,44,20.4,0.235,27,0\\r\\n6,103,72,32,190,37.7,0.324,55,0\\r\\n5,111,72,28,0,23.9,0.407,27,0\\r\\n8,196,76,29,280,37.5,0.605,57,1\\r\\n5,162,104,0,0,37.7,0.151,52,1\\r\\n1,96,64,27,87,33.2,0.289,21,0\\r\\n7,184,84,33,0,35.5,0.355,41,1\\r\\n2,81,60,22,0,27.7,0.29,25,0\\r\\n0,147,85,54,0,42.8,0.375,24,0\\r\\n7,179,95,31,0,34.2,0.164,60,0\\r\\n0,140,65,26,130,42.6,0.431,24,1\\r\\n9,112,82,32,175,34.2,0.26,36,1\\r\\n12,151,70,40,271,41.8,0.742,38,1\\r\\n5,109,62,41,129,35.8,0.514,25,1\\r\\n6,125,68,30,120,30,0.464,32,0\\r\\n5,85,74,22,0,29,1.224,32,1\\r\\n5,112,66,0,0,37.8,0.261,41,1\\r\\n0,177,60,29,478,34.6,1.072,21,1\\r\\n2,158,90,0,0,31.6,0.805,66,1\\r\\n7,119,0,0,0,25.2,0.209,37,0\\r\\n7,142,60,33,190,28.8,0.687,61,0\\r\\n1,100,66,15,56,23.6,0.666,26,0\\r\\n1,87,78,27,32,34.6,0.101,22,0\\r\\n0,101,76,0,0,35.7,0.198,26,0\\r\\n3,162,52,38,0,37.2,0.652,24,1\\r\\n4,197,70,39,744,36.7,2.329,31,0\\r\\n0,117,80,31,53,45.2,0.089,24,0\\r\\n4,142,86,0,0,44,0.645,22,1\\r\\n6,134,80,37,370,46.2,0.238,46,1\\r\\n1,79,80,25,37,25.4,0.583,22,0\\r\\n4,122,68,0,0,35,0.394,29,0\\r\\n3,74,68,28,45,29.7,0.293,23,0\\r\\n4,171,72,0,0,43.6,0.479,26,1\\r\\n7,181,84,21,192,35.9,0.586,51,1\\r\\n0,179,90,27,0,44.1,0.686,23,1\\r\\n9,164,84,21,0,30.8,0.831,32,1\\r\\n0,104,76,0,0,18.4,0.582,27,0\\r\\n1,91,64,24,0,29.2,0.192,21,0\\r\\n4,91,70,32,88,33.1,0.446,22,0\\r\\n3,139,54,0,0,25.6,0.402,22,1\\r\\n6,119,50,22,176,27.1,1.318,33,1\\r\\n2,146,76,35,194,38.2,0.329,29,0\\r\\n9,184,85,15,0,30,1.213,49,1\\r\\n10,122,68,0,0,31.2,0.258,41,0\\r\\n0,165,90,33,680,52.3,0.427,23,0\\r\\n9,124,70,33,402,35.4,0.282,34,0\\r\\n1,111,86,19,0,30.1,0.143,23,0\\r\\n9,106,52,0,0,31.2,0.38,42,0\\r\\n2,129,84,0,0,28,0.284,27,0\\r\\n2,90,80,14,55,24.4,0.249,24,0\\r\\n0,86,68,32,0,35.8,0.238,25,0\\r\\n12,92,62,7,258,27.6,0.926,44,1\\r\\n1,113,64,35,0,33.6,0.543,21,1\\r\\n3,111,56,39,0,30.1,0.557,30,0\\r\\n2,114,68,22,0,28.7,0.092,25,0\\r\\n1,193,50,16,375,25.9,0.655,24,0\\r\\n11,155,76,28,150,33.3,1.353,51,1\\r\\n3,191,68,15,130,30.9,0.299,34,0\\r\\n3,141,0,0,0,30,0.761,27,1\\r\\n4,95,70,32,0,32.1,0.612,24,0\\r\\n3,142,80,15,0,32.4,0.2,63,0\\r\\n4,123,62,0,0,32,0.226,35,1\\r\\n5,96,74,18,67,33.6,0.997,43,0\\r\\n0,138,0,0,0,36.3,0.933,25,1\\r\\n2,128,64,42,0,40,1.101,24,0\\r\\n0,102,52,0,0,25.1,0.078,21,0\\r\\n2,146,0,0,0,27.5,0.24,28,1\\r\\n10,101,86,37,0,45.6,1.136,38,1\\r\\n2,108,62,32,56,25.2,0.128,21,0\\r\\n3,122,78,0,0,23,0.254,40,0\\r\\n1,71,78,50,45,33.2,0.422,21,0\\r\\n13,106,70,0,0,34.2,0.251,52,0\\r\\n2,100,70,52,57,40.5,0.677,25,0\\r\\n7,106,60,24,0,26.5,0.296,29,1\\r\\n0,104,64,23,116,27.8,0.454,23,0\\r\\n5,114,74,0,0,24.9,0.744,57,0\\r\\n2,108,62,10,278,25.3,0.881,22,0\\r\\n0,146,70,0,0,37.9,0.334,28,1\\r\\n10,129,76,28,122,35.9,0.28,39,0\\r\\n7,133,88,15,155,32.4,0.262,37,0\\r\\n7,161,86,0,0,30.4,0.165,47,1\\r\\n2,108,80,0,0,27,0.259,52,1\\r\\n7,136,74,26,135,26,0.647,51,0\\r\\n5,155,84,44,545,38.7,0.619,34,0\\r\\n1,119,86,39,220,45.6,0.808,29,1\\r\\n4,96,56,17,49,20.8,0.34,26,0\\r\\n5,108,72,43,75,36.1,0.263,33,0\\r\\n0,78,88,29,40,36.9,0.434,21,0\\r\\n0,107,62,30,74,36.6,0.757,25,1\\r\\n2,128,78,37,182,43.3,1.224,31,1\\r\\n1,128,48,45,194,40.5,0.613,24,1\\r\\n0,161,50,0,0,21.9,0.254,65,0\\r\\n6,151,62,31,120,35.5,0.692,28,0\\r\\n2,146,70,38,360,28,0.337,29,1\\r\\n0,126,84,29,215,30.7,0.52,24,0\\r\\n14,100,78,25,184,36.6,0.412,46,1\\r\\n8,112,72,0,0,23.6,0.84,58,0\\r\\n0,167,0,0,0,32.3,0.839,30,1\\r\\n2,144,58,33,135,31.6,0.422,25,1\\r\\n5,77,82,41,42,35.8,0.156,35,0\\r\\n5,115,98,0,0,52.9,0.209,28,1\\r\\n3,150,76,0,0,21,0.207,37,0\\r\\n2,120,76,37,105,39.7,0.215,29,0\\r\\n10,161,68,23,132,25.5,0.326,47,1\\r\\n0,137,68,14,148,24.8,0.143,21,0\\r\\n0,128,68,19,180,30.5,1.391,25,1\\r\\n2,124,68,28,205,32.9,0.875,30,1\\r\\n6,80,66,30,0,26.2,0.313,41,0\\r\\n0,106,70,37,148,39.4,0.605,22,0\\r\\n2,155,74,17,96,26.6,0.433,27,1\\r\\n3,113,50,10,85,29.5,0.626,25,0\\r\\n7,109,80,31,0,35.9,1.127,43,1\\r\\n2,112,68,22,94,34.1,0.315,26,0\\r\\n3,99,80,11,64,19.3,0.284,30,0\\r\\n3,182,74,0,0,30.5,0.345,29,1\\r\\n3,115,66,39,140,38.1,0.15,28,0\\r\\n6,194,78,0,0,23.5,0.129,59,1\\r\\n4,129,60,12,231,27.5,0.527,31,0\\r\\n3,112,74,30,0,31.6,0.197,25,1\\r\\n0,124,70,20,0,27.4,0.254,36,1\\r\\n13,152,90,33,29,26.8,0.731,43,1\\r\\n2,112,75,32,0,35.7,0.148,21,0\\r\\n1,157,72,21,168,25.6,0.123,24,0\\r\\n1,122,64,32,156,35.1,0.692,30,1\\r\\n10,179,70,0,0,35.1,0.2,37,0\\r\\n2,102,86,36,120,45.5,0.127,23,1\\r\\n6,105,70,32,68,30.8,0.122,37,0\\r\\n8,118,72,19,0,23.1,1.476,46,0\\r\\n2,87,58,16,52,32.7,0.166,25,0\\r\\n1,180,0,0,0,43.3,0.282,41,1\\r\\n12,106,80,0,0,23.6,0.137,44,0\\r\\n1,95,60,18,58,23.9,0.26,22,0\\r\\n0,165,76,43,255,47.9,0.259,26,0\\r\\n0,117,0,0,0,33.8,0.932,44,0\\r\\n5,115,76,0,0,31.2,0.343,44,1\\r\\n9,152,78,34,171,34.2,0.893,33,1\\r\\n7,178,84,0,0,39.9,0.331,41,1\\r\\n1,130,70,13,105,25.9,0.472,22,0\\r\\n1,95,74,21,73,25.9,0.673,36,0\\r\\n1,0,68,35,0,32,0.389,22,0\\r\\n5,122,86,0,0,34.7,0.29,33,0\\r\\n8,95,72,0,0,36.8,0.485,57,0\\r\\n8,126,88,36,108,38.5,0.349,49,0\\r\\n1,139,46,19,83,28.7,0.654,22,0\\r\\n3,116,0,0,0,23.5,0.187,23,0\\r\\n3,99,62,19,74,21.8,0.279,26,0\\r\\n5,0,80,32,0,41,0.346,37,1\\r\\n4,92,80,0,0,42.2,0.237,29,0\\r\\n4,137,84,0,0,31.2,0.252,30,0\\r\\n3,61,82,28,0,34.4,0.243,46,0\\r\\n1,90,62,12,43,27.2,0.58,24,0\\r\\n3,90,78,0,0,42.7,0.559,21,0\\r\\n9,165,88,0,0,30.4,0.302,49,1\\r\\n1,125,50,40,167,33.3,0.962,28,1\\r\\n13,129,0,30,0,39.9,0.569,44,1\\r\\n12,88,74,40,54,35.3,0.378,48,0\\r\\n1,196,76,36,249,36.5,0.875,29,1\\r\\n5,189,64,33,325,31.2,0.583,29,1\\r\\n5,158,70,0,0,29.8,0.207,63,0\\r\\n5,103,108,37,0,39.2,0.305,65,0\\r\\n4,146,78,0,0,38.5,0.52,67,1\\r\\n4,147,74,25,293,34.9,0.385,30,0\\r\\n5,99,54,28,83,34,0.499,30,0\\r\\n6,124,72,0,0,27.6,0.368,29,1\\r\\n0,101,64,17,0,21,0.252,21,0\\r\\n3,81,86,16,66,27.5,0.306,22,0\\r\\n1,133,102,28,140,32.8,0.234,45,1\\r\\n3,173,82,48,465,38.4,2.137,25,1\\r\\n0,118,64,23,89,0,1.731,21,0\\r\\n0,84,64,22,66,35.8,0.545,21,0\\r\\n2,105,58,40,94,34.9,0.225,25,0\\r\\n2,122,52,43,158,36.2,0.816,28,0\\r\\n12,140,82,43,325,39.2,0.528,58,1\\r\\n0,98,82,15,84,25.2,0.299,22,0\\r\\n1,87,60,37,75,37.2,0.509,22,0\\r\\n4,156,75,0,0,48.3,0.238,32,1\\r\\n0,93,100,39,72,43.4,1.021,35,0\\r\\n1,107,72,30,82,30.8,0.821,24,0\\r\\n0,105,68,22,0,20,0.236,22,0\\r\\n1,109,60,8,182,25.4,0.947,21,0\\r\\n1,90,62,18,59,25.1,1.268,25,0\\r\\n1,125,70,24,110,24.3,0.221,25,0\\r\\n1,119,54,13,50,22.3,0.205,24,0\\r\\n5,116,74,29,0,32.3,0.66,35,1\\r\\n8,105,100,36,0,43.3,0.239,45,1\\r\\n5,144,82,26,285,32,0.452,58,1\\r\\n3,100,68,23,81,31.6,0.949,28,0\\r\\n1,100,66,29,196,32,0.444,42,0\\r\\n5,166,76,0,0,45.7,0.34,27,1\\r\\n1,131,64,14,415,23.7,0.389,21,0\\r\\n4,116,72,12,87,22.1,0.463,37,0\\r\\n4,158,78,0,0,32.9,0.803,31,1\\r\\n2,127,58,24,275,27.7,1.6,25,0\\r\\n3,96,56,34,115,24.7,0.944,39,0\\r\\n0,131,66,40,0,34.3,0.196,22,1\\r\\n3,82,70,0,0,21.1,0.389,25,0\\r\\n3,193,70,31,0,34.9,0.241,25,1\\r\\n4,95,64,0,0,32,0.161,31,1\\r\\n6,137,61,0,0,24.2,0.151,55,0\\r\\n5,136,84,41,88,35,0.286,35,1\\r\\n9,72,78,25,0,31.6,0.28,38,0\\r\\n5,168,64,0,0,32.9,0.135,41,1\\r\\n2,123,48,32,165,42.1,0.52,26,0\\r\\n4,115,72,0,0,28.9,0.376,46,1\\r\\n0,101,62,0,0,21.9,0.336,25,0\\r\\n8,197,74,0,0,25.9,1.191,39,1\\r\\n1,172,68,49,579,42.4,0.702,28,1\\r\\n6,102,90,39,0,35.7,0.674,28,0\\r\\n1,112,72,30,176,34.4,0.528,25,0\\r\\n1,143,84,23,310,42.4,1.076,22,0\\r\\n1,143,74,22,61,26.2,0.256,21,0\\r\\n0,138,60,35,167,34.6,0.534,21,1\\r\\n3,173,84,33,474,35.7,0.258,22,1\\r\\n1,97,68,21,0,27.2,1.095,22,0\\r\\n4,144,82,32,0,38.5,0.554,37,1\\r\\n1,83,68,0,0,18.2,0.624,27,0\\r\\n3,129,64,29,115,26.4,0.219,28,1\\r\\n1,119,88,41,170,45.3,0.507,26,0\\r\\n2,94,68,18,76,26,0.561,21,0\\r\\n0,102,64,46,78,40.6,0.496,21,0\\r\\n2,115,64,22,0,30.8,0.421,21,0\\r\\n8,151,78,32,210,42.9,0.516,36,1\\r\\n4,184,78,39,277,37,0.264,31,1\\r\\n0,94,0,0,0,0,0.256,25,0\\r\\n1,181,64,30,180,34.1,0.328,38,1\\r\\n0,135,94,46,145,40.6,0.284,26,0\\r\\n1,95,82,25,180,35,0.233,43,1\\r\\n2,99,0,0,0,22.2,0.108,23,0\\r\\n3,89,74,16,85,30.4,0.551,38,0\\r\\n1,80,74,11,60,30,0.527,22,0\\r\\n2,139,75,0,0,25.6,0.167,29,0\\r\\n1,90,68,8,0,24.5,1.138,36,0\\r\\n0,141,0,0,0,42.4,0.205,29,1\\r\\n12,140,85,33,0,37.4,0.244,41,0\\r\\n5,147,75,0,0,29.9,0.434,28,0\\r\\n1,97,70,15,0,18.2,0.147,21,0\\r\\n6,107,88,0,0,36.8,0.727,31,0\\r\\n0,189,104,25,0,34.3,0.435,41,1\\r\\n2,83,66,23,50,32.2,0.497,22,0\\r\\n4,117,64,27,120,33.2,0.23,24,0\\r\\n8,108,70,0,0,30.5,0.955,33,1\\r\\n4,117,62,12,0,29.7,0.38,30,1\\r\\n0,180,78,63,14,59.4,2.42,25,1\\r\\n1,100,72,12,70,25.3,0.658,28,0\\r\\n0,95,80,45,92,36.5,0.33,26,0\\r\\n0,104,64,37,64,33.6,0.51,22,1\\r\\n0,120,74,18,63,30.5,0.285,26,0\\r\\n1,82,64,13,95,21.2,0.415,23,0\\r\\n2,134,70,0,0,28.9,0.542,23,1\\r\\n0,91,68,32,210,39.9,0.381,25,0\\r\\n2,119,0,0,0,19.6,0.832,72,0\\r\\n2,100,54,28,105,37.8,0.498,24,0\\r\\n14,175,62,30,0,33.6,0.212,38,1\\r\\n1,135,54,0,0,26.7,0.687,62,0\\r\\n5,86,68,28,71,30.2,0.364,24,0\\r\\n10,148,84,48,237,37.6,1.001,51,1\\r\\n9,134,74,33,60,25.9,0.46,81,0\\r\\n9,120,72,22,56,20.8,0.733,48,0\\r\\n1,71,62,0,0,21.8,0.416,26,0\\r\\n8,74,70,40,49,35.3,0.705,39,0\\r\\n5,88,78,30,0,27.6,0.258,37,0\\r\\n10,115,98,0,0,24,1.022,34,0\\r\\n0,124,56,13,105,21.8,0.452,21,0\\r\\n0,74,52,10,36,27.8,0.269,22,0\\r\\n0,97,64,36,100,36.8,0.6,25,0\\r\\n8,120,0,0,0,30,0.183,38,1\\r\\n6,154,78,41,140,46.1,0.571,27,0\\r\\n1,144,82,40,0,41.3,0.607,28,0\\r\\n0,137,70,38,0,33.2,0.17,22,0\\r\\n0,119,66,27,0,38.8,0.259,22,0\\r\\n7,136,90,0,0,29.9,0.21,50,0\\r\\n4,114,64,0,0,28.9,0.126,24,0\\r\\n0,137,84,27,0,27.3,0.231,59,0\\r\\n2,105,80,45,191,33.7,0.711,29,1\\r\\n7,114,76,17,110,23.8,0.466,31,0\\r\\n8,126,74,38,75,25.9,0.162,39,0\\r\\n4,132,86,31,0,28,0.419,63,0\\r\\n3,158,70,30,328,35.5,0.344,35,1\\r\\n0,123,88,37,0,35.2,0.197,29,0\\r\\n4,85,58,22,49,27.8,0.306,28,0\\r\\n0,84,82,31,125,38.2,0.233,23,0\\r\\n0,145,0,0,0,44.2,0.63,31,1\\r\\n0,135,68,42,250,42.3,0.365,24,1\\r\\n1,139,62,41,480,40.7,0.536,21,0\\r\\n0,173,78,32,265,46.5,1.159,58,0\\r\\n4,99,72,17,0,25.6,0.294,28,0\\r\\n8,194,80,0,0,26.1,0.551,67,0\\r\\n2,83,65,28,66,36.8,0.629,24,0\\r\\n2,89,90,30,0,33.5,0.292,42,0\\r\\n4,99,68,38,0,32.8,0.145,33,0\\r\\n4,125,70,18,122,28.9,1.144,45,1\\r\\n3,80,0,0,0,0,0.174,22,0\\r\\n6,166,74,0,0,26.6,0.304,66,0\\r\\n5,110,68,0,0,26,0.292,30,0\\r\\n2,81,72,15,76,30.1,0.547,25,0\\r\\n7,195,70,33,145,25.1,0.163,55,1\\r\\n6,154,74,32,193,29.3,0.839,39,0\\r\\n2,117,90,19,71,25.2,0.313,21,0\\r\\n3,84,72,32,0,37.2,0.267,28,0\\r\\n6,0,68,41,0,39,0.727,41,1\\r\\n7,94,64,25,79,33.3,0.738,41,0\\r\\n3,96,78,39,0,37.3,0.238,40,0\\r\\n10,75,82,0,0,33.3,0.263,38,0\\r\\n0,180,90,26,90,36.5,0.314,35,1\\r\\n1,130,60,23,170,28.6,0.692,21,0\\r\\n2,84,50,23,76,30.4,0.968,21,0\\r\\n8,120,78,0,0,25,0.409,64,0\\r\\n12,84,72,31,0,29.7,0.297,46,1\\r\\n0,139,62,17,210,22.1,0.207,21,0\\r\\n9,91,68,0,0,24.2,0.2,58,0\\r\\n2,91,62,0,0,27.3,0.525,22,0\\r\\n3,99,54,19,86,25.6,0.154,24,0\\r\\n3,163,70,18,105,31.6,0.268,28,1\\r\\n9,145,88,34,165,30.3,0.771,53,1\\r\\n7,125,86,0,0,37.6,0.304,51,0\\r\\n13,76,60,0,0,32.8,0.18,41,0\\r\\n6,129,90,7,326,19.6,0.582,60,0\\r\\n2,68,70,32,66,25,0.187,25,0\\r\\n3,124,80,33,130,33.2,0.305,26,0\\r\\n6,114,0,0,0,0,0.189,26,0\\r\\n9,130,70,0,0,34.2,0.652,45,1\\r\\n3,125,58,0,0,31.6,0.151,24,0\\r\\n3,87,60,18,0,21.8,0.444,21,0\\r\\n1,97,64,19,82,18.2,0.299,21,0\\r\\n3,116,74,15,105,26.3,0.107,24,0\\r\\n0,117,66,31,188,30.8,0.493,22,0\\r\\n0,111,65,0,0,24.6,0.66,31,0\\r\\n2,122,60,18,106,29.8,0.717,22,0\\r\\n0,107,76,0,0,45.3,0.686,24,0\\r\\n1,86,66,52,65,41.3,0.917,29,0\\r\\n6,91,0,0,0,29.8,0.501,31,0\\r\\n1,77,56,30,56,33.3,1.251,24,0\\r\\n4,132,0,0,0,32.9,0.302,23,1\\r\\n0,105,90,0,0,29.6,0.197,46,0\\r\\n0,57,60,0,0,21.7,0.735,67,0\\r\\n0,127,80,37,210,36.3,0.804,23,0\\r\\n3,129,92,49,155,36.4,0.968,32,1\\r\\n8,100,74,40,215,39.4,0.661,43,1\\r\\n3,128,72,25,190,32.4,0.549,27,1\\r\\n10,90,85,32,0,34.9,0.825,56,1\\r\\n4,84,90,23,56,39.5,0.159,25,0\\r\\n1,88,78,29,76,32,0.365,29,0\\r\\n8,186,90,35,225,34.5,0.423,37,1\\r\\n5,187,76,27,207,43.6,1.034,53,1\\r\\n4,131,68,21,166,33.1,0.16,28,0\\r\\n1,164,82,43,67,32.8,0.341,50,0\\r\\n4,189,110,31,0,28.5,0.68,37,0\\r\\n1,116,70,28,0,27.4,0.204,21,0\\r\\n3,84,68,30,106,31.9,0.591,25,0\\r\\n6,114,88,0,0,27.8,0.247,66,0\\r\\n1,88,62,24,44,29.9,0.422,23,0\\r\\n1,84,64,23,115,36.9,0.471,28,0\\r\\n7,124,70,33,215,25.5,0.161,37,0\\r\\n1,97,70,40,0,38.1,0.218,30,0\\r\\n8,110,76,0,0,27.8,0.237,58,0\\r\\n11,103,68,40,0,46.2,0.126,42,0\\r\\n11,85,74,0,0,30.1,0.3,35,0\\r\\n6,125,76,0,0,33.8,0.121,54,1\\r\\n0,198,66,32,274,41.3,0.502,28,1\\r\\n1,87,68,34,77,37.6,0.401,24,0\\r\\n6,99,60,19,54,26.9,0.497,32,0\\r\\n0,91,80,0,0,32.4,0.601,27,0\\r\\n2,95,54,14,88,26.1,0.748,22,0\\r\\n1,99,72,30,18,38.6,0.412,21,0\\r\\n6,92,62,32,126,32,0.085,46,0\\r\\n4,154,72,29,126,31.3,0.338,37,0\\r\\n0,121,66,30,165,34.3,0.203,33,1\\r\\n3,78,70,0,0,32.5,0.27,39,0\\r\\n2,130,96,0,0,22.6,0.268,21,0\\r\\n3,111,58,31,44,29.5,0.43,22,0\\r\\n2,98,60,17,120,34.7,0.198,22,0\\r\\n1,143,86,30,330,30.1,0.892,23,0\\r\\n1,119,44,47,63,35.5,0.28,25,0\\r\\n6,108,44,20,130,24,0.813,35,0\\r\\n2,118,80,0,0,42.9,0.693,21,1\\r\\n10,133,68,0,0,27,0.245,36,0\\r\\n2,197,70,99,0,34.7,0.575,62,1\\r\\n0,151,90,46,0,42.1,0.371,21,1\\r\\n6,109,60,27,0,25,0.206,27,0\\r\\n12,121,78,17,0,26.5,0.259,62,0\\r\\n8,100,76,0,0,38.7,0.19,42,0\\r\\n8,124,76,24,600,28.7,0.687,52,1\\r\\n1,93,56,11,0,22.5,0.417,22,0\\r\\n8,143,66,0,0,34.9,0.129,41,1\\r\\n6,103,66,0,0,24.3,0.249,29,0\\r\\n3,176,86,27,156,33.3,1.154,52,1\\r\\n0,73,0,0,0,21.1,0.342,25,0\\r\\n11,111,84,40,0,46.8,0.925,45,1\\r\\n2,112,78,50,140,39.4,0.175,24,0\\r\\n3,132,80,0,0,34.4,0.402,44,1\\r\\n2,82,52,22,115,28.5,1.699,25,0\\r\\n6,123,72,45,230,33.6,0.733,34,0\\r\\n0,188,82,14,185,32,0.682,22,1\\r\\n0,67,76,0,0,45.3,0.194,46,0\\r\\n1,89,24,19,25,27.8,0.559,21,0\\r\\n1,173,74,0,0,36.8,0.088,38,1\\r\\n1,109,38,18,120,23.1,0.407,26,0\\r\\n1,108,88,19,0,27.1,0.4,24,0\\r\\n6,96,0,0,0,23.7,0.19,28,0\\r\\n1,124,74,36,0,27.8,0.1,30,0\\r\\n7,150,78,29,126,35.2,0.692,54,1\\r\\n4,183,0,0,0,28.4,0.212,36,1\\r\\n1,124,60,32,0,35.8,0.514,21,0\\r\\n1,181,78,42,293,40,1.258,22,1\\r\\n1,92,62,25,41,19.5,0.482,25,0\\r\\n0,152,82,39,272,41.5,0.27,27,0\\r\\n1,111,62,13,182,24,0.138,23,0\\r\\n3,106,54,21,158,30.9,0.292,24,0\\r\\n3,174,58,22,194,32.9,0.593,36,1\\r\\n7,168,88,42,321,38.2,0.787,40,1\\r\\n6,105,80,28,0,32.5,0.878,26,0\\r\\n11,138,74,26,144,36.1,0.557,50,1\\r\\n3,106,72,0,0,25.8,0.207,27,0\\r\\n6,117,96,0,0,28.7,0.157,30,0\\r\\n2,68,62,13,15,20.1,0.257,23,0\\r\\n9,112,82,24,0,28.2,1.282,50,1\\r\\n0,119,0,0,0,32.4,0.141,24,1\\r\\n2,112,86,42,160,38.4,0.246,28,0\\r\\n2,92,76,20,0,24.2,1.698,28,0\\r\\n6,183,94,0,0,40.8,1.461,45,0\\r\\n0,94,70,27,115,43.5,0.347,21,0\\r\\n2,108,64,0,0,30.8,0.158,21,0\\r\\n4,90,88,47,54,37.7,0.362,29,0\\r\\n0,125,68,0,0,24.7,0.206,21,0\\r\\n0,132,78,0,0,32.4,0.393,21,0\\r\\n5,128,80,0,0,34.6,0.144,45,0\\r\\n4,94,65,22,0,24.7,0.148,21,0\\r\\n7,114,64,0,0,27.4,0.732,34,1\\r\\n0,102,78,40,90,34.5,0.238,24,0\\r\\n2,111,60,0,0,26.2,0.343,23,0\\r\\n1,128,82,17,183,27.5,0.115,22,0\\r\\n10,92,62,0,0,25.9,0.167,31,0\\r\\n13,104,72,0,0,31.2,0.465,38,1\\r\\n5,104,74,0,0,28.8,0.153,48,0\\r\\n2,94,76,18,66,31.6,0.649,23,0\\r\\n7,97,76,32,91,40.9,0.871,32,1\\r\\n1,100,74,12,46,19.5,0.149,28,0\\r\\n0,102,86,17,105,29.3,0.695,27,0\\r\\n4,128,70,0,0,34.3,0.303,24,0\\r\\n6,147,80,0,0,29.5,0.178,50,1\\r\\n4,90,0,0,0,28,0.61,31,0\\r\\n3,103,72,30,152,27.6,0.73,27,0\\r\\n2,157,74,35,440,39.4,0.134,30,0\\r\\n1,167,74,17,144,23.4,0.447,33,1\\r\\n0,179,50,36,159,37.8,0.455,22,1\\r\\n11,136,84,35,130,28.3,0.26,42,1\\r\\n0,107,60,25,0,26.4,0.133,23,0\\r\\n1,91,54,25,100,25.2,0.234,23,0\\r\\n1,117,60,23,106,33.8,0.466,27,0\\r\\n5,123,74,40,77,34.1,0.269,28,0\\r\\n2,120,54,0,0,26.8,0.455,27,0\\r\\n1,106,70,28,135,34.2,0.142,22,0\\r\\n2,155,52,27,540,38.7,0.24,25,1\\r\\n2,101,58,35,90,21.8,0.155,22,0\\r\\n1,120,80,48,200,38.9,1.162,41,0\\r\\n11,127,106,0,0,39,0.19,51,0\\r\\n3,80,82,31,70,34.2,1.292,27,1\\r\\n10,162,84,0,0,27.7,0.182,54,0\\r\\n1,199,76,43,0,42.9,1.394,22,1\\r\\n8,167,106,46,231,37.6,0.165,43,1\\r\\n9,145,80,46,130,37.9,0.637,40,1\\r\\n6,115,60,39,0,33.7,0.245,40,1\\r\\n1,112,80,45,132,34.8,0.217,24,0\\r\\n4,145,82,18,0,32.5,0.235,70,1\\r\\n10,111,70,27,0,27.5,0.141,40,1\\r\\n6,98,58,33,190,34,0.43,43,0\\r\\n9,154,78,30,100,30.9,0.164,45,0\\r\\n6,165,68,26,168,33.6,0.631,49,0\\r\\n1,99,58,10,0,25.4,0.551,21,0\\r\\n10,68,106,23,49,35.5,0.285,47,0\\r\\n3,123,100,35,240,57.3,0.88,22,0\\r\\n8,91,82,0,0,35.6,0.587,68,0\\r\\n6,195,70,0,0,30.9,0.328,31,1\\r\\n9,156,86,0,0,24.8,0.23,53,1\\r\\n0,93,60,0,0,35.3,0.263,25,0\\r\\n3,121,52,0,0,36,0.127,25,1\\r\\n2,101,58,17,265,24.2,0.614,23,0\\r\\n2,56,56,28,45,24.2,0.332,22,0\\r\\n0,162,76,36,0,49.6,0.364,26,1\\r\\n0,95,64,39,105,44.6,0.366,22,0\\r\\n4,125,80,0,0,32.3,0.536,27,1\\r\\n5,136,82,0,0,0,0.64,69,0\\r\\n2,129,74,26,205,33.2,0.591,25,0\\r\\n3,130,64,0,0,23.1,0.314,22,0\\r\\n1,107,50,19,0,28.3,0.181,29,0\\r\\n1,140,74,26,180,24.1,0.828,23,0\\r\\n1,144,82,46,180,46.1,0.335,46,1\\r\\n8,107,80,0,0,24.6,0.856,34,0\\r\\n13,158,114,0,0,42.3,0.257,44,1\\r\\n2,121,70,32,95,39.1,0.886,23,0\\r\\n7,129,68,49,125,38.5,0.439,43,1\\r\\n2,90,60,0,0,23.5,0.191,25,0\\r\\n7,142,90,24,480,30.4,0.128,43,1\\r\\n3,169,74,19,125,29.9,0.268,31,1\\r\\n0,99,0,0,0,25,0.253,22,0\\r\\n4,127,88,11,155,34.5,0.598,28,0\\r\\n4,118,70,0,0,44.5,0.904,26,0\\r\\n2,122,76,27,200,35.9,0.483,26,0\\r\\n6,125,78,31,0,27.6,0.565,49,1\\r\\n1,168,88,29,0,35,0.905,52,1\\r\\n2,129,0,0,0,38.5,0.304,41,0\\r\\n4,110,76,20,100,28.4,0.118,27,0\\r\\n6,80,80,36,0,39.8,0.177,28,0\\r\\n10,115,0,0,0,0,0.261,30,1\\r\\n2,127,46,21,335,34.4,0.176,22,0\\r\\n9,164,78,0,0,32.8,0.148,45,1\\r\\n2,93,64,32,160,38,0.674,23,1\\r\\n3,158,64,13,387,31.2,0.295,24,0\\r\\n5,126,78,27,22,29.6,0.439,40,0\\r\\n10,129,62,36,0,41.2,0.441,38,1\\r\\n0,134,58,20,291,26.4,0.352,21,0\\r\\n3,102,74,0,0,29.5,0.121,32,0\\r\\n7,187,50,33,392,33.9,0.826,34,1\\r\\n3,173,78,39,185,33.8,0.97,31,1\\r\\n10,94,72,18,0,23.1,0.595,56,0\\r\\n1,108,60,46,178,35.5,0.415,24,0\\r\\n5,97,76,27,0,35.6,0.378,52,1\\r\\n4,83,86,19,0,29.3,0.317,34,0\\r\\n1,114,66,36,200,38.1,0.289,21,0\\r\\n1,149,68,29,127,29.3,0.349,42,1\\r\\n5,117,86,30,105,39.1,0.251,42,0\\r\\n1,111,94,0,0,32.8,0.265,45,0\\r\\n4,112,78,40,0,39.4,0.236,38,0\\r\\n1,116,78,29,180,36.1,0.496,25,0\\r\\n0,141,84,26,0,32.4,0.433,22,0\\r\\n2,175,88,0,0,22.9,0.326,22,0\\r\\n2,92,52,0,0,30.1,0.141,22,0\\r\\n3,130,78,23,79,28.4,0.323,34,1\\r\\n8,120,86,0,0,28.4,0.259,22,1\\r\\n2,174,88,37,120,44.5,0.646,24,1\\r\\n2,106,56,27,165,29,0.426,22,0\\r\\n2,105,75,0,0,23.3,0.56,53,0\\r\\n4,95,60,32,0,35.4,0.284,28,0\\r\\n0,126,86,27,120,27.4,0.515,21,0\\r\\n8,65,72,23,0,32,0.6,42,0\\r\\n2,99,60,17,160,36.6,0.453,21,0\\r\\n1,102,74,0,0,39.5,0.293,42,1\\r\\n11,120,80,37,150,42.3,0.785,48,1\\r\\n3,102,44,20,94,30.8,0.4,26,0\\r\\n1,109,58,18,116,28.5,0.219,22,0\\r\\n9,140,94,0,0,32.7,0.734,45,1\\r\\n13,153,88,37,140,40.6,1.174,39,0\\r\\n12,100,84,33,105,30,0.488,46,0\\r\\n1,147,94,41,0,49.3,0.358,27,1\\r\\n1,81,74,41,57,46.3,1.096,32,0\\r\\n3,187,70,22,200,36.4,0.408,36,1\\r\\n6,162,62,0,0,24.3,0.178,50,1\\r\\n4,136,70,0,0,31.2,1.182,22,1\\r\\n1,121,78,39,74,39,0.261,28,0\\r\\n3,108,62,24,0,26,0.223,25,0\\r\\n0,181,88,44,510,43.3,0.222,26,1\\r\\n8,154,78,32,0,32.4,0.443,45,1\\r\\n1,128,88,39,110,36.5,1.057,37,1\\r\\n7,137,90,41,0,32,0.391,39,0\\r\\n0,123,72,0,0,36.3,0.258,52,1\\r\\n1,106,76,0,0,37.5,0.197,26,0\\r\\n6,190,92,0,0,35.5,0.278,66,1\\r\\n2,88,58,26,16,28.4,0.766,22,0\\r\\n9,170,74,31,0,44,0.403,43,1\\r\\n9,89,62,0,0,22.5,0.142,33,0\\r\\n10,101,76,48,180,32.9,0.171,63,0\\r\\n2,122,70,27,0,36.8,0.34,27,0\\r\\n5,121,72,23,112,26.2,0.245,30,0\\r\\n1,126,60,0,0,30.1,0.349,47,1\\r\\n1,93,70,31,0,30.4,0.315,23,0\\r\\n'}"
            ]
          },
          "metadata": {
            "tags": []
          },
          "execution_count": 237
        }
      ]
    },
    {
      "cell_type": "code",
      "metadata": {
        "id": "L9ZvKrptW9xN",
        "colab_type": "code",
        "outputId": "a3702da7-0038-41d4-a660-8fb9774aaf7a",
        "colab": {
          "base_uri": "https://localhost:8080/",
          "height": 202
        }
      },
      "source": [
        "df = pd.read_csv('diabetic.csv')\n",
        "df.head()"
      ],
      "execution_count": 238,
      "outputs": [
        {
          "output_type": "execute_result",
          "data": {
            "text/html": [
              "<div>\n",
              "<style scoped>\n",
              "    .dataframe tbody tr th:only-of-type {\n",
              "        vertical-align: middle;\n",
              "    }\n",
              "\n",
              "    .dataframe tbody tr th {\n",
              "        vertical-align: top;\n",
              "    }\n",
              "\n",
              "    .dataframe thead th {\n",
              "        text-align: right;\n",
              "    }\n",
              "</style>\n",
              "<table border=\"1\" class=\"dataframe\">\n",
              "  <thead>\n",
              "    <tr style=\"text-align: right;\">\n",
              "      <th></th>\n",
              "      <th>Pregnancies</th>\n",
              "      <th>Glucose</th>\n",
              "      <th>BloodPressure</th>\n",
              "      <th>SkinThickness</th>\n",
              "      <th>Insulin</th>\n",
              "      <th>BMI</th>\n",
              "      <th>DiabetesPedigreeFunction</th>\n",
              "      <th>Age</th>\n",
              "      <th>Outcome</th>\n",
              "    </tr>\n",
              "  </thead>\n",
              "  <tbody>\n",
              "    <tr>\n",
              "      <th>0</th>\n",
              "      <td>6</td>\n",
              "      <td>148</td>\n",
              "      <td>72</td>\n",
              "      <td>35</td>\n",
              "      <td>0</td>\n",
              "      <td>33.6</td>\n",
              "      <td>0.627</td>\n",
              "      <td>50</td>\n",
              "      <td>1</td>\n",
              "    </tr>\n",
              "    <tr>\n",
              "      <th>1</th>\n",
              "      <td>1</td>\n",
              "      <td>85</td>\n",
              "      <td>66</td>\n",
              "      <td>29</td>\n",
              "      <td>0</td>\n",
              "      <td>26.6</td>\n",
              "      <td>0.351</td>\n",
              "      <td>31</td>\n",
              "      <td>0</td>\n",
              "    </tr>\n",
              "    <tr>\n",
              "      <th>2</th>\n",
              "      <td>8</td>\n",
              "      <td>183</td>\n",
              "      <td>64</td>\n",
              "      <td>0</td>\n",
              "      <td>0</td>\n",
              "      <td>23.3</td>\n",
              "      <td>0.672</td>\n",
              "      <td>32</td>\n",
              "      <td>1</td>\n",
              "    </tr>\n",
              "    <tr>\n",
              "      <th>3</th>\n",
              "      <td>1</td>\n",
              "      <td>89</td>\n",
              "      <td>66</td>\n",
              "      <td>23</td>\n",
              "      <td>94</td>\n",
              "      <td>28.1</td>\n",
              "      <td>0.167</td>\n",
              "      <td>21</td>\n",
              "      <td>0</td>\n",
              "    </tr>\n",
              "    <tr>\n",
              "      <th>4</th>\n",
              "      <td>0</td>\n",
              "      <td>137</td>\n",
              "      <td>40</td>\n",
              "      <td>35</td>\n",
              "      <td>168</td>\n",
              "      <td>43.1</td>\n",
              "      <td>2.288</td>\n",
              "      <td>33</td>\n",
              "      <td>1</td>\n",
              "    </tr>\n",
              "  </tbody>\n",
              "</table>\n",
              "</div>"
            ],
            "text/plain": [
              "   Pregnancies  Glucose  BloodPressure  ...  DiabetesPedigreeFunction  Age  Outcome\n",
              "0            6      148             72  ...                     0.627   50        1\n",
              "1            1       85             66  ...                     0.351   31        0\n",
              "2            8      183             64  ...                     0.672   32        1\n",
              "3            1       89             66  ...                     0.167   21        0\n",
              "4            0      137             40  ...                     2.288   33        1\n",
              "\n",
              "[5 rows x 9 columns]"
            ]
          },
          "metadata": {
            "tags": []
          },
          "execution_count": 238
        }
      ]
    },
    {
      "cell_type": "markdown",
      "metadata": {
        "id": "kPHMkr5L5UaT",
        "colab_type": "text"
      },
      "source": [
        "## In this DS we are able to see that our of the 768 women in the dataset, 500 are labeled as being non-diabetic(0) and 268 are diabetic(1)."
      ]
    },
    {
      "cell_type": "code",
      "metadata": {
        "id": "WeAcvaEWXJ2W",
        "colab_type": "code",
        "outputId": "1ed79eb1-5dcb-4590-a01c-a3911944c142",
        "colab": {
          "base_uri": "https://localhost:8080/",
          "height": 69
        }
      },
      "source": [
        "df.columns"
      ],
      "execution_count": 239,
      "outputs": [
        {
          "output_type": "execute_result",
          "data": {
            "text/plain": [
              "Index(['Pregnancies', 'Glucose', 'BloodPressure', 'SkinThickness', 'Insulin',\n",
              "       'BMI', 'DiabetesPedigreeFunction', 'Age', 'Outcome'],\n",
              "      dtype='object')"
            ]
          },
          "metadata": {
            "tags": []
          },
          "execution_count": 239
        }
      ]
    },
    {
      "cell_type": "code",
      "metadata": {
        "id": "ob2VqXF1ZHt6",
        "colab_type": "code",
        "outputId": "1e5aa540-2df5-4868-b534-321b7fef2096",
        "colab": {
          "base_uri": "https://localhost:8080/",
          "height": 219
        }
      },
      "source": [
        "# I want to start by renaming the columns. At the same time I will be able to get\n",
        "# a good view of the dataset that I am working with.\n",
        "\n",
        "df.rename(columns={'Pregnancies':'PREGNANCIES'}, inplace=True)\n",
        "df.rename(columns={'Glucose':'GLUCOSE'}, inplace=True)\n",
        "df.rename(columns={'BloodPressure':'BP'}, inplace=True)\n",
        "df.rename(columns={'SkinThickness':'SKIN-THICKNESS'}, inplace=True)\n",
        "df.rename(columns={'Insulin':'INSULIN'}, inplace=True)\n",
        "df.rename(columns={'DiabetesPedigreeFunction':'DPF'}, inplace=True)\n",
        "df.rename(columns={'Age':'AGE'}, inplace=True)\n",
        "df.rename(columns={'Outcome':'OUTCOME'}, inplace=True)\n",
        "\n",
        "print(df.shape)\n",
        "df.head()"
      ],
      "execution_count": 240,
      "outputs": [
        {
          "output_type": "stream",
          "text": [
            "(768, 9)\n"
          ],
          "name": "stdout"
        },
        {
          "output_type": "execute_result",
          "data": {
            "text/html": [
              "<div>\n",
              "<style scoped>\n",
              "    .dataframe tbody tr th:only-of-type {\n",
              "        vertical-align: middle;\n",
              "    }\n",
              "\n",
              "    .dataframe tbody tr th {\n",
              "        vertical-align: top;\n",
              "    }\n",
              "\n",
              "    .dataframe thead th {\n",
              "        text-align: right;\n",
              "    }\n",
              "</style>\n",
              "<table border=\"1\" class=\"dataframe\">\n",
              "  <thead>\n",
              "    <tr style=\"text-align: right;\">\n",
              "      <th></th>\n",
              "      <th>PREGNANCIES</th>\n",
              "      <th>GLUCOSE</th>\n",
              "      <th>BP</th>\n",
              "      <th>SKIN-THICKNESS</th>\n",
              "      <th>INSULIN</th>\n",
              "      <th>BMI</th>\n",
              "      <th>DPF</th>\n",
              "      <th>AGE</th>\n",
              "      <th>OUTCOME</th>\n",
              "    </tr>\n",
              "  </thead>\n",
              "  <tbody>\n",
              "    <tr>\n",
              "      <th>0</th>\n",
              "      <td>6</td>\n",
              "      <td>148</td>\n",
              "      <td>72</td>\n",
              "      <td>35</td>\n",
              "      <td>0</td>\n",
              "      <td>33.6</td>\n",
              "      <td>0.627</td>\n",
              "      <td>50</td>\n",
              "      <td>1</td>\n",
              "    </tr>\n",
              "    <tr>\n",
              "      <th>1</th>\n",
              "      <td>1</td>\n",
              "      <td>85</td>\n",
              "      <td>66</td>\n",
              "      <td>29</td>\n",
              "      <td>0</td>\n",
              "      <td>26.6</td>\n",
              "      <td>0.351</td>\n",
              "      <td>31</td>\n",
              "      <td>0</td>\n",
              "    </tr>\n",
              "    <tr>\n",
              "      <th>2</th>\n",
              "      <td>8</td>\n",
              "      <td>183</td>\n",
              "      <td>64</td>\n",
              "      <td>0</td>\n",
              "      <td>0</td>\n",
              "      <td>23.3</td>\n",
              "      <td>0.672</td>\n",
              "      <td>32</td>\n",
              "      <td>1</td>\n",
              "    </tr>\n",
              "    <tr>\n",
              "      <th>3</th>\n",
              "      <td>1</td>\n",
              "      <td>89</td>\n",
              "      <td>66</td>\n",
              "      <td>23</td>\n",
              "      <td>94</td>\n",
              "      <td>28.1</td>\n",
              "      <td>0.167</td>\n",
              "      <td>21</td>\n",
              "      <td>0</td>\n",
              "    </tr>\n",
              "    <tr>\n",
              "      <th>4</th>\n",
              "      <td>0</td>\n",
              "      <td>137</td>\n",
              "      <td>40</td>\n",
              "      <td>35</td>\n",
              "      <td>168</td>\n",
              "      <td>43.1</td>\n",
              "      <td>2.288</td>\n",
              "      <td>33</td>\n",
              "      <td>1</td>\n",
              "    </tr>\n",
              "  </tbody>\n",
              "</table>\n",
              "</div>"
            ],
            "text/plain": [
              "   PREGNANCIES  GLUCOSE  BP  SKIN-THICKNESS  INSULIN   BMI    DPF  AGE  OUTCOME\n",
              "0            6      148  72              35        0  33.6  0.627   50        1\n",
              "1            1       85  66              29        0  26.6  0.351   31        0\n",
              "2            8      183  64               0        0  23.3  0.672   32        1\n",
              "3            1       89  66              23       94  28.1  0.167   21        0\n",
              "4            0      137  40              35      168  43.1  2.288   33        1"
            ]
          },
          "metadata": {
            "tags": []
          },
          "execution_count": 240
        }
      ]
    },
    {
      "cell_type": "code",
      "metadata": {
        "id": "biVG-OFA4CQu",
        "colab_type": "code",
        "colab": {
          "base_uri": "https://localhost:8080/",
          "height": 87
        },
        "outputId": "494f35fe-593a-41b8-b0b8-a95d4dbe3ab3"
      },
      "source": [
        "# I don't like going in the order in which the assignment has, so I am going to \n",
        "# do this according to the flow that best works for me. \n",
        "\n",
        "df.groupby('OUTCOME').size()"
      ],
      "execution_count": 241,
      "outputs": [
        {
          "output_type": "execute_result",
          "data": {
            "text/plain": [
              "OUTCOME\n",
              "0    500\n",
              "1    268\n",
              "dtype: int64"
            ]
          },
          "metadata": {
            "tags": []
          },
          "execution_count": 241
        }
      ]
    },
    {
      "cell_type": "code",
      "metadata": {
        "id": "cCc3NxL94VJN",
        "colab_type": "code",
        "colab": {
          "base_uri": "https://localhost:8080/",
          "height": 553
        },
        "outputId": "22db8e2e-9545-4f03-8f56-793362468f36"
      },
      "source": [
        "df.hist(figsize=(9, 9));"
      ],
      "execution_count": 242,
      "outputs": [
        {
          "output_type": "display_data",
          "data": {
            "image/png": "[encoded data removed]",
            "text/plain": [
              "<Figure size 648x648 with 9 Axes>"
            ]
          },
          "metadata": {
            "tags": [],
            "needs_background": "light"
          }
        }
      ]
    },
    {
      "cell_type": "code",
      "metadata": {
        "id": "oM3SCHAA4ZrN",
        "colab_type": "code",
        "colab": {
          "base_uri": "https://localhost:8080/",
          "height": 1000
        },
        "outputId": "6972ce70-108f-4363-e8d7-2060eaeb29d0"
      },
      "source": [
        "df.groupby('OUTCOME').hist(figsize=(9, 9));"
      ],
      "execution_count": 243,
      "outputs": [
        {
          "output_type": "display_data",
          "data": {
            "image/png": "[encoded data removed]",
            "text/plain": [
              "<Figure size 648x648 with 9 Axes>"
            ]
          },
          "metadata": {
            "tags": [],
            "needs_background": "light"
          }
        },
        {
          "output_type": "display_data",
          "data": {
            "image/png": "[encoded data removed]",
            "text/plain": [
              "<Figure size 648x648 with 9 Axes>"
            ]
          },
          "metadata": {
            "tags": [],
            "needs_background": "light"
          }
        }
      ]
    },
    {
      "cell_type": "code",
      "metadata": {
        "id": "YrVilHcp4x7Q",
        "colab_type": "code",
        "colab": {
          "base_uri": "https://localhost:8080/",
          "height": 191
        },
        "outputId": "e86cfa72-3ac3-40df-f1ea-b02de4052550"
      },
      "source": [
        "# Next I want to clean the set that I am working with by starting with the isnull\n",
        "# function to check for missing values. \n",
        "\n",
        "df.isnull().sum()"
      ],
      "execution_count": 244,
      "outputs": [
        {
          "output_type": "execute_result",
          "data": {
            "text/plain": [
              "PREGNANCIES       0\n",
              "GLUCOSE           0\n",
              "BP                0\n",
              "SKIN-THICKNESS    0\n",
              "INSULIN           0\n",
              "BMI               0\n",
              "DPF               0\n",
              "AGE               0\n",
              "OUTCOME           0\n",
              "dtype: int64"
            ]
          },
          "metadata": {
            "tags": []
          },
          "execution_count": 244
        }
      ]
    },
    {
      "cell_type": "code",
      "metadata": {
        "id": "YQrZNzt859N3",
        "colab_type": "code",
        "colab": {
          "base_uri": "https://localhost:8080/",
          "height": 191
        },
        "outputId": "45648257-06d6-4bde-a333-654196c83576"
      },
      "source": [
        "df.isna().sum()"
      ],
      "execution_count": 245,
      "outputs": [
        {
          "output_type": "execute_result",
          "data": {
            "text/plain": [
              "PREGNANCIES       0\n",
              "GLUCOSE           0\n",
              "BP                0\n",
              "SKIN-THICKNESS    0\n",
              "INSULIN           0\n",
              "BMI               0\n",
              "DPF               0\n",
              "AGE               0\n",
              "OUTCOME           0\n",
              "dtype: int64"
            ]
          },
          "metadata": {
            "tags": []
          },
          "execution_count": 245
        }
      ]
    },
    {
      "cell_type": "markdown",
      "metadata": {
        "id": "9wWhblV36GxD",
        "colab_type": "text"
      },
      "source": [
        "# There are some unexpected outliers"
      ]
    },
    {
      "cell_type": "code",
      "metadata": {
        "id": "9C8rwfNJ6DIQ",
        "colab_type": "code",
        "colab": {
          "base_uri": "https://localhost:8080/",
          "height": 104
        },
        "outputId": "fe6296b6-3b9f-471e-91c0-9e457a90008f"
      },
      "source": [
        "print(\"Total : \", df[df.BP == 0].shape[0])\n",
        "print(df[df.BP == 0].groupby('OUTCOME')['AGE'].count())"
      ],
      "execution_count": 246,
      "outputs": [
        {
          "output_type": "stream",
          "text": [
            "Total :  35\n",
            "OUTCOME\n",
            "0    19\n",
            "1    16\n",
            "Name: AGE, dtype: int64\n"
          ],
          "name": "stdout"
        }
      ]
    },
    {
      "cell_type": "code",
      "metadata": {
        "id": "2pRKngSF6aMG",
        "colab_type": "code",
        "colab": {
          "base_uri": "https://localhost:8080/",
          "height": 104
        },
        "outputId": "d44e0e5a-bf37-4e43-ec9e-f27427db66dc"
      },
      "source": [
        "print(\"Total : \", df[df.GLUCOSE == 0].shape[0])\n",
        "print(df[df.GLUCOSE == 0].groupby('OUTCOME')['AGE'].count())"
      ],
      "execution_count": 247,
      "outputs": [
        {
          "output_type": "stream",
          "text": [
            "Total :  5\n",
            "OUTCOME\n",
            "0    3\n",
            "1    2\n",
            "Name: AGE, dtype: int64\n"
          ],
          "name": "stdout"
        }
      ]
    },
    {
      "cell_type": "code",
      "metadata": {
        "id": "PSK26-bb7Byb",
        "colab_type": "code",
        "colab": {
          "base_uri": "https://localhost:8080/",
          "height": 104
        },
        "outputId": "251d5751-9265-45dc-8895-4e8fbd38bde4"
      },
      "source": [
        "print(\"Total : \", df[df.BMI == 0].shape[0])\n",
        "print(df[df.BMI == 0].groupby('OUTCOME')['AGE'].count())"
      ],
      "execution_count": 248,
      "outputs": [
        {
          "output_type": "stream",
          "text": [
            "Total :  11\n",
            "OUTCOME\n",
            "0    9\n",
            "1    2\n",
            "Name: AGE, dtype: int64\n"
          ],
          "name": "stdout"
        }
      ]
    },
    {
      "cell_type": "code",
      "metadata": {
        "id": "rz9HM-fC7T92",
        "colab_type": "code",
        "colab": {
          "base_uri": "https://localhost:8080/",
          "height": 104
        },
        "outputId": "bdb9fec4-def1-4716-8f6c-66beb704c20f"
      },
      "source": [
        "print(\"Total : \", df[df.INSULIN == 0].shape[0])\n",
        "print(df[df.INSULIN == 0].groupby('OUTCOME')['AGE'].count())"
      ],
      "execution_count": 249,
      "outputs": [
        {
          "output_type": "stream",
          "text": [
            "Total :  374\n",
            "OUTCOME\n",
            "0    236\n",
            "1    138\n",
            "Name: AGE, dtype: int64\n"
          ],
          "name": "stdout"
        }
      ]
    },
    {
      "cell_type": "code",
      "metadata": {
        "id": "nXsn3VkN7fPk",
        "colab_type": "code",
        "colab": {
          "base_uri": "https://localhost:8080/",
          "height": 35
        },
        "outputId": "0040961c-9144-43d5-8376-ae8e258d954a"
      },
      "source": [
        "df_mod = df[(df.BP != 0) & (df.BMI != 0) & (df.INSULIN != 0)]\n",
        "print(df_mod.shape)"
      ],
      "execution_count": 250,
      "outputs": [
        {
          "output_type": "stream",
          "text": [
            "(393, 9)\n"
          ],
          "name": "stdout"
        }
      ]
    },
    {
      "cell_type": "markdown",
      "metadata": {
        "id": "EpyBI6Ft74mT",
        "colab_type": "text"
      },
      "source": [
        "## The idea is to get features/response"
      ]
    },
    {
      "cell_type": "code",
      "metadata": {
        "id": "d-kEGo2x7-qt",
        "colab_type": "code",
        "colab": {}
      },
      "source": [
        "feature_names = ['PREGNANCIES', 'GLUCOSE', 'BP', 'SKIN-THICKNESS', 'INSULIN', 'BMI', 'DPF', 'AGE']\n",
        "X = df_mod[feature_names]\n",
        "y = df_mod['OUTCOME']"
      ],
      "execution_count": 0,
      "outputs": []
    },
    {
      "cell_type": "markdown",
      "metadata": {
        "id": "Le6WXaBF-Unb",
        "colab_type": "text"
      },
      "source": [
        "## This section will be my model selection between a train/test split and K-Fold cross-validation."
      ]
    },
    {
      "cell_type": "code",
      "metadata": {
        "id": "UiA6ayl78Ale",
        "colab_type": "code",
        "colab": {}
      },
      "source": [
        "from sklearn.neighbors import KNeighborsClassifier\n",
        "from sklearn.svm import SVC\n",
        "from sklearn.linear_model import LogisticRegression\n",
        "from sklearn.tree import DecisionTreeClassifier\n",
        "from sklearn.naive_bayes import GaussianNB\n",
        "from sklearn.ensemble import RandomForestClassifier\n",
        "from sklearn.ensemble import GradientBoostingClassifier\n",
        "from sklearn.model_selection import train_test_split\n",
        "from sklearn.model_selection import cross_val_score\n",
        "from sklearn.model_selection import StratifiedKFold\n",
        "from sklearn.metrics import accuracy_score"
      ],
      "execution_count": 0,
      "outputs": []
    },
    {
      "cell_type": "code",
      "metadata": {
        "id": "RYphw5zB-N8S",
        "colab_type": "code",
        "colab": {}
      },
      "source": [
        "models = []\n",
        "\n",
        "models.append(('KNN', KNeighborsClassifier()))\n",
        "models.append(('SVC', SVC(gamma='scale')))\n",
        "models.append(('LR', LogisticRegression(solver='lbfgs', max_iter=4000)))\n",
        "models.append(('DT', DecisionTreeClassifier()))\n",
        "models.append(('GNB', GaussianNB()))\n",
        "models.append(('RF', RandomForestClassifier(n_estimators=100)))\n",
        "models.append(('GB', GradientBoostingClassifier()))"
      ],
      "execution_count": 0,
      "outputs": []
    },
    {
      "cell_type": "code",
      "metadata": {
        "id": "GrdQPiq0-w2u",
        "colab_type": "code",
        "colab": {}
      },
      "source": [
        "# This is where I will use Train/Test split\n",
        "\n",
        "X_train, X_test, y_train, y_test = train_test_split(X, y, stratify = df_mod.OUTCOME, random_state=0)"
      ],
      "execution_count": 0,
      "outputs": []
    },
    {
      "cell_type": "code",
      "metadata": {
        "id": "AuTfEodV--QE",
        "colab_type": "code",
        "colab": {
          "base_uri": "https://localhost:8080/",
          "height": 156
        },
        "outputId": "0c125f7f-04f4-4405-c0c8-76aa662f7e88"
      },
      "source": [
        "names = []\n",
        "scores = []\n",
        "\n",
        "for name, model in models:\n",
        "    model.fit(X_train, y_train)\n",
        "    y_pred = model.predict(X_test)\n",
        "    scores.append(accuracy_score(y_test, y_pred))\n",
        "    names.append(name)\n",
        "\n",
        "tr_split = pd.DataFrame({'Name': names, 'Score': scores})\n",
        "print(tr_split)"
      ],
      "execution_count": 259,
      "outputs": [
        {
          "output_type": "stream",
          "text": [
            "  Name     Score\n",
            "0  KNN  0.717172\n",
            "1  SVC  0.737374\n",
            "2   LR  0.757576\n",
            "3   DT  0.767677\n",
            "4  GNB  0.787879\n",
            "5   RF  0.787879\n",
            "6   GB  0.808081\n"
          ],
          "name": "stdout"
        }
      ]
    },
    {
      "cell_type": "code",
      "metadata": {
        "id": "nEzlTs70_Bnh",
        "colab_type": "code",
        "colab": {
          "base_uri": "https://localhost:8080/",
          "height": 156
        },
        "outputId": "0639fbfe-f429-4d5d-8e39-e2fb5416b5fb"
      },
      "source": [
        "# This section will use K-Fold cross validation\n",
        "\n",
        "strat_k_fold = StratifiedKFold(n_splits=10, random_state=None)\n",
        "\n",
        "names = []\n",
        "scores = []\n",
        "\n",
        "for name, model in models:\n",
        "    \n",
        "    score = cross_val_score(model, X, y, cv=strat_k_fold, scoring='accuracy').mean()\n",
        "    names.append(name)\n",
        "    scores.append(score)\n",
        "\n",
        "kf_cross_val = pd.DataFrame({'Name': names, 'Score': scores})\n",
        "print(kf_cross_val)"
      ],
      "execution_count": 275,
      "outputs": [
        {
          "output_type": "stream",
          "text": [
            "  Name     Score\n",
            "0  KNN  0.712372\n",
            "1  SVC  0.763462\n",
            "2   LR  0.781218\n",
            "3   DT  0.712692\n",
            "4  GNB  0.771026\n",
            "5   RF  0.776282\n",
            "6   GB  0.796859\n"
          ],
          "name": "stdout"
        }
      ]
    },
    {
      "cell_type": "code",
      "metadata": {
        "id": "BFI1rNc0_OOj",
        "colab_type": "code",
        "colab": {
          "base_uri": "https://localhost:8080/",
          "height": 279
        },
        "outputId": "4dd70ec8-cf47-48f2-cb36-59835c331d49"
      },
      "source": [
        "axis = sns.barplot(x = 'Name', y = 'Score', data = kf_cross_val)\n",
        "axis.set(xlabel='Classifier', ylabel='Accuracy')\n",
        "\n",
        "for p in axis.patches:\n",
        "    height = p.get_height()\n",
        "    axis.text(p.get_x() + p.get_width()/2, height + 0.005, '{:1.4f}'.format(height), ha=\"center\") \n",
        "    \n",
        "plt.show()"
      ],
      "execution_count": 276,
      "outputs": [
        {
          "output_type": "display_data",
          "data": {
            "image/png": "[encoded data removed]",
            "text/plain": [
              "<Figure size 432x288 with 1 Axes>"
            ]
          },
          "metadata": {
            "tags": [],
            "needs_background": "light"
          }
        }
      ]
    },
    {
      "cell_type": "code",
      "metadata": {
        "id": "tu56vOrQ_9bD",
        "colab_type": "code",
        "colab": {}
      },
      "source": [
        "# I want to take a moment and revisit feature selection\n",
        "\n",
        "from sklearn.feature_selection import RFECV"
      ],
      "execution_count": 0,
      "outputs": []
    },
    {
      "cell_type": "code",
      "metadata": {
        "id": "Gas_Yxb6AQ3Z",
        "colab_type": "code",
        "colab": {
          "base_uri": "https://localhost:8080/",
          "height": 295
        },
        "outputId": "09f5c354-db53-4c17-cb9e-938f7bb743c6"
      },
      "source": [
        "# I want to get into some logistic regression\n",
        "\n",
        "logreg_model = LogisticRegression(solver='lbfgs', max_iter=4000)\n",
        "\n",
        "rfecv = RFECV(estimator=logreg_model, step=1, cv=strat_k_fold, scoring='accuracy')\n",
        "rfecv.fit(X, y)\n",
        "\n",
        "plt.figure()\n",
        "plt.title('Logistic Regression CV score vs # of Features')\n",
        "plt.xlabel(\"# of features selected\")\n",
        "plt.ylabel(\"CVS (# of correct classifications)\")\n",
        "plt.plot(range(1, len(rfecv.grid_scores_) + 1), rfecv.grid_scores_)\n",
        "plt.show()"
      ],
      "execution_count": 280,
      "outputs": [
        {
          "output_type": "display_data",
          "data": {
            "image/png": "[encoded data removed]",
            "text/plain": [
              "<Figure size 432x288 with 1 Axes>"
            ]
          },
          "metadata": {
            "tags": [],
            "needs_background": "light"
          }
        }
      ]
    },
    {
      "cell_type": "code",
      "metadata": {
        "id": "lTQ3mtDgA-aK",
        "colab_type": "code",
        "colab": {
          "base_uri": "https://localhost:8080/",
          "height": 35
        },
        "outputId": "e737c9b5-e919-4858-d249-016c98fbdc70"
      },
      "source": [
        "\n",
        "feature_importance = list(zip(feature_names, rfecv.support_))\n",
        "\n",
        "new_features = []\n",
        "\n",
        "for key,value in enumerate(feature_importance):\n",
        "    if(value[1]) == True:\n",
        "        new_features.append(value[0])\n",
        "        \n",
        "print(new_features)"
      ],
      "execution_count": 281,
      "outputs": [
        {
          "output_type": "stream",
          "text": [
            "['PREGNANCIES', 'GLUCOSE', 'BMI', 'DPF', 'AGE']\n"
          ],
          "name": "stdout"
        }
      ]
    },
    {
      "cell_type": "code",
      "metadata": {
        "id": "YHTGSUk8BBQB",
        "colab_type": "code",
        "colab": {
          "base_uri": "https://localhost:8080/",
          "height": 52
        },
        "outputId": "9a19b5a3-4314-4044-e587-a19161909b5c"
      },
      "source": [
        "# This cell will calculate accuracy scores\n",
        "\n",
        "X_new = df_mod[new_features]\n",
        "\n",
        "initial_score = cross_val_score(logreg_model, X, y, cv=strat_k_fold, scoring='accuracy').mean()\n",
        "print(\"Initial accuracy : {} \".format(initial_score))\n",
        "\n",
        "fe_score = cross_val_score(logreg_model, X_new, y, cv=strat_k_fold, scoring='accuracy').mean()\n",
        "print(\"Accuracy after Feature Selection : {} \".format(fe_score))"
      ],
      "execution_count": 282,
      "outputs": [
        {
          "output_type": "stream",
          "text": [
            "Initial accuracy : 0.7812179487179487 \n",
            "Accuracy after Feature Selection : 0.7812179487179487 \n"
          ],
          "name": "stdout"
        }
      ]
    },
    {
      "cell_type": "code",
      "metadata": {
        "id": "U4fg5cMTBP0c",
        "colab_type": "code",
        "colab": {
          "base_uri": "https://localhost:8080/",
          "height": 295
        },
        "outputId": "e0ae8268-8027-44c0-ff20-1a6e36ff93c9"
      },
      "source": [
        "# I want to take a look at the Gradiant boosting model. It's used for regression \n",
        "# and classification problems, so to the naked eye of a DS student it's an ensemble\n",
        "\n",
        "gb_model = GradientBoostingClassifier()\n",
        "\n",
        "gb_rfecv = RFECV(estimator=gb_model, step=1, cv=strat_k_fold, scoring='accuracy')\n",
        "gb_rfecv.fit(X, y)\n",
        "\n",
        "plt.figure()\n",
        "plt.title('GB CV score vs # of Features')\n",
        "plt.xlabel(\"# of features selected\")\n",
        "plt.ylabel(\"CVS (# of correct classifications)\")\n",
        "plt.plot(range(1, len(gb_rfecv.grid_scores_) + 1), gb_rfecv.grid_scores_)\n",
        "plt.show()"
      ],
      "execution_count": 283,
      "outputs": [
        {
          "output_type": "display_data",
          "data": {
            "image/png": "[encoded data removed]",
            "text/plain": [
              "<Figure size 432x288 with 1 Axes>"
            ]
          },
          "metadata": {
            "tags": [],
            "needs_background": "light"
          }
        }
      ]
    },
    {
      "cell_type": "code",
      "metadata": {
        "id": "GB2nscR-CCza",
        "colab_type": "code",
        "colab": {
          "base_uri": "https://localhost:8080/",
          "height": 35
        },
        "outputId": "5eb30549-4999-4367-d6e8-5f1bd50c24a4"
      },
      "source": [
        "feature_importance = list(zip(feature_names, gb_rfecv.support_))\n",
        "\n",
        "new_features = []\n",
        "\n",
        "for key,value in enumerate(feature_importance):\n",
        "    if(value[1]) == True:\n",
        "        new_features.append(value[0])\n",
        "        \n",
        "print(new_features)"
      ],
      "execution_count": 284,
      "outputs": [
        {
          "output_type": "stream",
          "text": [
            "['PREGNANCIES', 'GLUCOSE', 'SKIN-THICKNESS', 'INSULIN', 'BMI', 'DPF', 'AGE']\n"
          ],
          "name": "stdout"
        }
      ]
    },
    {
      "cell_type": "code",
      "metadata": {
        "id": "5NHTL5gXCJSQ",
        "colab_type": "code",
        "colab": {
          "base_uri": "https://localhost:8080/",
          "height": 52
        },
        "outputId": "8995fb97-22a1-4eb8-88bb-ab0e9d052cc8"
      },
      "source": [
        "X_new_gb = df_mod[new_features]\n",
        "\n",
        "initial_score = cross_val_score(gb_model, X, y, cv=strat_k_fold, scoring='accuracy').mean()\n",
        "print(\"Initial accuracy : {} \".format(initial_score))\n",
        "\n",
        "fe_score = cross_val_score(gb_model, X_new_gb, y, cv=strat_k_fold, scoring='accuracy').mean()\n",
        "print(\"Accuracy after Feature Selection : {} \".format(fe_score))"
      ],
      "execution_count": 286,
      "outputs": [
        {
          "output_type": "stream",
          "text": [
            "Initial accuracy : 0.8019871794871793 \n",
            "Accuracy after Feature Selection : 0.8019230769230768 \n"
          ],
          "name": "stdout"
        }
      ]
    },
    {
      "cell_type": "code",
      "metadata": {
        "id": "c6HzVJ4xCN3U",
        "colab_type": "code",
        "colab": {}
      },
      "source": [
        "# Not sure if this would be considered a stretch goal, but I am going to try and \n",
        "# fine-tune the parameters.\n",
        "\n",
        "from sklearn.model_selection import GridSearchCV\n",
        "c_values = list(np.arange(1, 10))\n",
        "\n",
        "param_grid = [{'C': c_values, 'penalty': ['l1'], 'solver' : ['liblinear'],\n",
        "               'multi_class' : ['ovr']}, {'C': c_values, 'penalty': ['l2'],\n",
        "               'solver' : ['liblinear', 'newton-cg', 'lbfgs'], 'multi_class' : ['ovr']}]"
      ],
      "execution_count": 0,
      "outputs": []
    },
    {
      "cell_type": "code",
      "metadata": {
        "id": "8UipRJJyCtVn",
        "colab_type": "code",
        "colab": {
          "base_uri": "https://localhost:8080/",
          "height": 416
        },
        "outputId": "dcfe5519-5f42-45b6-a807-61b61f950cbf"
      },
      "source": [
        "grid = GridSearchCV(LogisticRegression(), param_grid, cv=strat_k_fold, scoring='accuracy', iid=False)\n",
        "grid.fit(X_new, y)"
      ],
      "execution_count": 293,
      "outputs": [
        {
          "output_type": "stream",
          "text": [
            "/usr/local/lib/python3.6/dist-packages/sklearn/model_selection/_search.py:823: FutureWarning:\n",
            "\n",
            "The parameter 'iid' is deprecated in 0.22 and will be removed in 0.24.\n",
            "\n"
          ],
          "name": "stderr"
        },
        {
          "output_type": "execute_result",
          "data": {
            "text/plain": [
              "GridSearchCV(cv=StratifiedKFold(n_splits=10, random_state=None, shuffle=False),\n",
              "             error_score=nan,\n",
              "             estimator=LogisticRegression(C=1.0, class_weight=None, dual=False,\n",
              "                                          fit_intercept=True,\n",
              "                                          intercept_scaling=1, l1_ratio=None,\n",
              "                                          max_iter=100, multi_class='auto',\n",
              "                                          n_jobs=None, penalty='l2',\n",
              "                                          random_state=None, solver='lbfgs',\n",
              "                                          tol=0.0001, verbose=0,\n",
              "                                          warm_start=False),\n",
              "             iid=False, n_jobs=None,\n",
              "             param_grid=[{'C': [1, 2, 3, 4, 5, 6, 7, 8, 9],\n",
              "                          'multi_class': ['ovr'], 'penalty': ['l1'],\n",
              "                          'solver': ['liblinear']},\n",
              "                         {'C': [1, 2, 3, 4, 5, 6, 7, 8, 9],\n",
              "                          'multi_class': ['ovr'], 'penalty': ['l2'],\n",
              "                          'solver': ['liblinear', 'newton-cg', 'lbfgs']}],\n",
              "             pre_dispatch='2*n_jobs', refit=True, return_train_score=False,\n",
              "             scoring='accuracy', verbose=0)"
            ]
          },
          "metadata": {
            "tags": []
          },
          "execution_count": 293
        }
      ]
    },
    {
      "cell_type": "code",
      "metadata": {
        "id": "GhUj2ZEBCwpy",
        "colab_type": "code",
        "colab": {
          "base_uri": "https://localhost:8080/",
          "height": 121
        },
        "outputId": "14ae307d-0968-4559-a076-b48c54266600"
      },
      "source": [
        "print(grid.best_params_)\n",
        "print(grid.best_estimator_)"
      ],
      "execution_count": 294,
      "outputs": [
        {
          "output_type": "stream",
          "text": [
            "{'C': 1, 'multi_class': 'ovr', 'penalty': 'l2', 'solver': 'liblinear'}\n",
            "LogisticRegression(C=1, class_weight=None, dual=False, fit_intercept=True,\n",
            "                   intercept_scaling=1, l1_ratio=None, max_iter=100,\n",
            "                   multi_class='ovr', n_jobs=None, penalty='l2',\n",
            "                   random_state=None, solver='liblinear', tol=0.0001, verbose=0,\n",
            "                   warm_start=False)\n"
          ],
          "name": "stdout"
        }
      ]
    },
    {
      "cell_type": "code",
      "metadata": {
        "id": "YPjtZGmlDW40",
        "colab_type": "code",
        "colab": {}
      },
      "source": [
        "logreg_new = LogisticRegression(C=1, multi_class='ovr', penalty='l2', solver='liblinear')"
      ],
      "execution_count": 0,
      "outputs": []
    },
    {
      "cell_type": "code",
      "metadata": {
        "id": "wqiRh0kKDLGS",
        "colab_type": "code",
        "colab": {
          "base_uri": "https://localhost:8080/",
          "height": 35
        },
        "outputId": "e5ff770f-5e14-4b60-9080-10682858dde0"
      },
      "source": [
        "# This will calculate the final accuracy score\n",
        "\n",
        "initial_score = cross_val_score(logreg_new, X_new, y, cv=strat_k_fold, scoring='accuracy').mean()\n",
        "print(\"Final accuracy : {} \".format(initial_score))"
      ],
      "execution_count": 297,
      "outputs": [
        {
          "output_type": "stream",
          "text": [
            "Final accuracy : 0.7862820512820512 \n"
          ],
          "name": "stdout"
        }
      ]
    }
  ]
}